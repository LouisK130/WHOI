{
 "cells": [
  {
   "cell_type": "code",
   "execution_count": null,
   "metadata": {
    "collapsed": false
   },
   "outputs": [],
   "source": [
    "# Full path (or just file name if in same directory as this file) to *_evaluation_output.mat\n",
    "# You MUST use / to separate directories, NOT \\\n",
    "eval_output_file = 'C:/Users/Louis/Documents/GitHub/resources (not a repo)/MVCO_trees_25Jun2012_evaluation_output.mat'\n",
    "\n",
    "%matplotlib notebook\n",
    "import scipy.io as sio\n",
    "import numpy as np\n",
    "import matplotlib.pyplot as plt\n",
    "matlabOutput = sio.loadmat(eval_output_file)"
   ]
  },
  {
   "cell_type": "code",
   "execution_count": null,
   "metadata": {
    "collapsed": false
   },
   "outputs": [],
   "source": [
    "def conf_mat_props(c) :\n",
    "    # calculations explained at https://github.com/hsosik/ifcb-analysis/blob/master/classification/conf_mat_props.m\n",
    "    total = np.sum(c, axis=0)\n",
    "    TP = np.diagonal(c);\n",
    "    FP = total - TP;\n",
    "    FN = np.sum(c, axis=1)-TP;\n",
    "    TN = sum(total)-TP-FN-FP;\n",
    "    return TP, TN, FP, FN"
   ]
  },
  {
   "cell_type": "code",
   "execution_count": null,
   "metadata": {
    "collapsed": false
   },
   "outputs": [],
   "source": [
    "oobError = matlabOutput['oobError_output']\n",
    "\n",
    "plt.figure(figsize=(10,6))\n",
    "plt.plot(np.arange(len(oobError)), oobError);\n",
    "\n",
    "plt.xlabel('Number of Grown Trees')\n",
    "plt.ylabel('Out-of-Bag Classification Error')\n",
    "plt.ylim([0, 1]);"
   ]
  },
  {
   "cell_type": "code",
   "execution_count": null,
   "metadata": {
    "collapsed": false,
    "scrolled": false
   },
   "outputs": [],
   "source": [
    "indices = matlabOutput['OOBPermutedVarDeltaError_output']['ind'][0][0][0];\n",
    "values = matlabOutput['OOBPermutedVarDeltaError_output']['delerr'][0][0][0];\n",
    "\n",
    "plt.figure(figsize=(12,6))\n",
    "plt.bar(np.arange(len(indices)), height=values, width=.6)\n",
    "\n",
    "plt.ylabel('Feature importance')\n",
    "plt.xlabel('Feature ranked index')\n",
    "\n",
    "# hide meaningless xaxis labels\n",
    "plt.xticks((0,1), '');"
   ]
  },
  {
   "cell_type": "code",
   "execution_count": null,
   "metadata": {
    "collapsed": false
   },
   "outputs": [],
   "source": [
    "c1 = matlabOutput['confusionmat'][0][0][0]\n",
    "gord1 = matlabOutput['confusionmat'][0][0][1]\n",
    "total = np.sum(c1, axis=1)\n",
    "TP, TN, FP, FN = conf_mat_props(c1)\n",
    "\n",
    "Pd = TP / (TP+FN)\n",
    "Pr = TP / (TP+FP)"
   ]
  },
  {
   "cell_type": "code",
   "execution_count": null,
   "metadata": {
    "collapsed": false
   },
   "outputs": [],
   "source": [
    "fig, ax = plt.subplots(figsize=(12,6))\n",
    "indices = np.arange(0, len(gord1)*2, 2)\n",
    "width = 0.5\n",
    "\n",
    "bars1 = ax.bar(indices, height=total, width=width, color='r')\n",
    "bars2 = ax.bar(indices+width, height=TP, width=width, color='g')\n",
    "bars3 = ax.bar(indices+(width*2), height=FP, width=width, color='y')\n",
    "\n",
    "ax.legend((bars1[0], bars2[0], bars3[0]), ('total in set', 'true pos', 'false pos'))\n",
    "\n",
    "# unfortunately gord1 is formatted oddly by scipy so we have to rebuild it in a usable form\n",
    "formatted_gord1 = []\n",
    "for arr1 in gord1:\n",
    "    formatted_gord1.append(arr1[0][0])\n",
    "\n",
    "ax.set_xticks(indices+(width*1.5))\n",
    "ax.set_xticklabels(formatted_gord1, rotation=90);\n",
    "ax.set_title('score threshold = 0');\n",
    "\n",
    "plt.tight_layout()"
   ]
  },
  {
   "cell_type": "code",
   "execution_count": null,
   "metadata": {
    "collapsed": false
   },
   "outputs": [],
   "source": [
    "fig, ax = plt.subplots(figsize=(12,6))\n",
    "# same indices as above cell\n",
    "width = 0.5\n",
    "\n",
    "bars1 = ax.bar(indices, height=Pd, width=width, color='r')\n",
    "bars2 = ax.bar(indices+width, height=Pr, width=width, color='g')\n",
    "\n",
    "ax.legend((bars1[0], bars2[0]), ('Pd', 'Pr'))\n",
    "ax.set_xticks(indices+(width*1.5))\n",
    "ax.set_xticklabels(formatted_gord1, rotation=90)\n",
    "ax.set_title('score threshold = 0');\n",
    "\n",
    "plt.tight_layout()"
   ]
  },
  {
   "cell_type": "code",
   "execution_count": null,
   "metadata": {
    "collapsed": false
   },
   "outputs": [],
   "source": [
    "Sfit = matlabOutput['oobPredict_output']['Sfit']\n",
    "classes = matlabOutput['classes']\n",
    "bY = matlabOutput['bY']\n",
    "maxthre = matlabOutput['maxthre'][0]\n",
    "\n",
    "# format classes properly, they're weirdly nested after reading from .mat file\n",
    "formatted_classes = []\n",
    "for key in classes[0] :\n",
    "    formatted_classes.append(key[0])\n",
    "\n",
    "# can't get the numpy max function to work quite the way I want it to on all of Sfit at once\n",
    "# so we go one row at a time instead\n",
    "maxSfit = []\n",
    "for row in Sfit[0][0] :\n",
    "    maxSfit.append(np.max(row))\n",
    "\n",
    "# unfortunately, boxplot in this library doesn't work like boxplot in MATLAB\n",
    "# I can't just pass bY as a grouping variable\n",
    "groupedBoxEntries = {}\n",
    "i = 0\n",
    "for boxEntry in bY :\n",
    "    if not boxEntry[0][0] in groupedBoxEntries :\n",
    "        groupedBoxEntries[boxEntry[0][0]] = []\n",
    "    groupedBoxEntries[boxEntry[0][0]].append(maxSfit[i])\n",
    "    i = i + 1\n",
    "\n",
    "# now format dictionary values as one big array of arrays\n",
    "toPlot = []\n",
    "for key in formatted_classes :\n",
    "    toPlot.append(groupedBoxEntries[key])\n",
    "\n",
    "fig,ax = plt.subplots(figsize=(12,8))\n",
    "ax.boxplot(toPlot, labels=formatted_classes)\n",
    "stars = ax.plot(np.arange(0, len(formatted_classes)), maxthre, '*', color='g');\n",
    "\n",
    "ax.set_xticks(np.arange(1, len(formatted_classes)))\n",
    "ax.set_xticklabels(formatted_classes, rotation=90);\n",
    "ax.set_title('score threshold = 0')\n",
    "ax.set_ylabel('Out-of-bag winning scores')\n",
    "ax.legend([stars[0]], ['optimal threshold score'], numpoints=1)\n",
    "\n",
    "plt.tight_layout()"
   ]
  },
  {
   "cell_type": "code",
   "execution_count": null,
   "metadata": {
    "collapsed": false,
    "scrolled": false
   },
   "outputs": [],
   "source": [
    "cplot = np.zeros((len(c1),len(c1)))\n",
    "for x in range(0,len(c1)) :\n",
    "    for y in range(0, len(c1)) :\n",
    "        cplot[x,y] = c1[x,y]\n",
    "        \n",
    "fig,ax = plt.subplots(figsize=(12,10))\n",
    "colorPlot = ax.pcolor(cplot)\n",
    "\n",
    "ticks = np.arange(0,len(formatted_classes))\n",
    "ax.set_yticks(ticks+.5)\n",
    "ax.set_yticklabels(formatted_classes)\n",
    "ax.set_xticks(ticks+.5)\n",
    "ax.set_xticklabels(formatted_classes, rotation=90)\n",
    "ax.set_title('manual vs. classifier; score threshold = 0')\n",
    "if (len(formatted_classes) > 50) :\n",
    "    # margin is okay with 50 ticks but broken with 51\n",
    "    # setting equal axes is better than not if >50\n",
    "    ax.axis('equal')\n",
    "\n",
    "fig.colorbar(colorPlot, ticks=np.arange(0, np.max(total), 50))\n",
    "\n",
    "plt.tight_layout()"
   ]
  },
  {
   "cell_type": "code",
   "execution_count": null,
   "metadata": {
    "collapsed": false
   },
   "outputs": [],
   "source": [
    "c3 = matlabOutput['confusionmat2'][0][0][0]\n",
    "gord3 = matlabOutput['confusionmat2'][0][0][1]\n",
    "total = np.sum(c3, axis=1)\n",
    "TP, TN, FP, FN = conf_mat_props(c3)\n",
    "\n",
    "# suppress some warnings about division by 0 and NaN\n",
    "with np.errstate(invalid='ignore') :\n",
    "    Pd3 = TP / (TP+FN)\n",
    "    Pr3 = TP / (TP+FP)\n",
    "    Pm3 = c3[:,len(c3)-1] / total"
   ]
  },
  {
   "cell_type": "code",
   "execution_count": null,
   "metadata": {
    "collapsed": false
   },
   "outputs": [],
   "source": [
    "fig, ax = plt.subplots(figsize=(12,6))\n",
    "indices = np.arange(0, len(gord3)*2, 2)\n",
    "width = 0.5\n",
    "\n",
    "bars1 = ax.bar(indices, height=Pd3, width=width, color='r')\n",
    "bars2 = ax.bar(indices+width, height=Pr3, width=width, color='g')\n",
    "bars3 = ax.bar(indices+(width*2), height=Pm3, width=width, color='y')\n",
    "\n",
    "ax.legend((bars1[0], bars2[0], bars3[0]), ('Pd', 'Pr', 'Pmissed'))\n",
    "\n",
    "# reformat gord3 like we always have to...\n",
    "formatted_gord3 = []\n",
    "for arr1 in gord3:\n",
    "    formatted_gord3.append(arr1[0][0])\n",
    "\n",
    "ax.set_xticks(indices+(width*1.5))\n",
    "ax.set_xticklabels(formatted_gord3, rotation=90);\n",
    "ax.set_title('optimal score threshold');\n",
    "\n",
    "plt.tight_layout()"
   ]
  },
  {
   "cell_type": "code",
   "execution_count": null,
   "metadata": {
    "collapsed": false
   },
   "outputs": [],
   "source": [
    "classes2 = matlabOutput['classes2']\n",
    "\n",
    "# reformat as always...\n",
    "formatted_classes2 = []\n",
    "for key in classes2 :\n",
    "    formatted_classes2.append(key[0][0])\n",
    "\n",
    "cplot1 = np.zeros((len(c3),len(c3)))\n",
    "for x in range(0,len(c3)) :\n",
    "    for y in range(0,len(c3)) :\n",
    "        cplot1[x,y] = c3[x,y]\n",
    "        \n",
    "fig,ax = plt.subplots(figsize=(12,10))\n",
    "colorPlot = ax.pcolor(cplot1)\n",
    "\n",
    "ticks = np.arange(0,len(formatted_classes2))\n",
    "ax.set_yticks(ticks+.5)\n",
    "ax.set_yticklabels(formatted_classes2)\n",
    "ax.set_xticks(ticks+.5)\n",
    "ax.set_xticklabels(formatted_classes2, rotation=90)\n",
    "ax.set_title('manual vs. classifier; optimal score threshold')\n",
    "if (len(formatted_classes2) > 50) :\n",
    "    # margin is okay with 50 ticks but broken with 51\n",
    "    # setting equal axes is better than not if >50\n",
    "    ax.axis('equal')\n",
    "\n",
    "fig.colorbar(colorPlot, ticks=np.arange(0, np.max(total), 50))\n",
    "\n",
    "plt.tight_layout()"
   ]
  }
 ],
 "metadata": {
  "anaconda-cloud": {},
  "kernelspec": {
   "display_name": "Python [Root]",
   "language": "python",
   "name": "Python [Root]"
  },
  "language_info": {
   "codemirror_mode": {
    "name": "ipython",
    "version": 3
   },
   "file_extension": ".py",
   "mimetype": "text/x-python",
   "name": "python",
   "nbconvert_exporter": "python",
   "pygments_lexer": "ipython3",
   "version": "3.5.2"
  }
 },
 "nbformat": 4,
 "nbformat_minor": 0
}
