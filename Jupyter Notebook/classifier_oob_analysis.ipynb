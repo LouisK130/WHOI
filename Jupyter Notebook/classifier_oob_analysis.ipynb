{
 "cells": [
  {
   "cell_type": "code",
   "execution_count": null,
   "metadata": {
    "collapsed": false
   },
   "outputs": [],
   "source": [
    "# This cell needs to run BEFORE any others! Ctrl-Enter this cell before trying Cell->Run All\n",
    "# If this cell runs together with the one below it (and hasn't already run) the kernel freezes trying to open Qt dialog\n",
    "\n",
    "%gui qt\n",
    "import scipy.io as sio\n",
    "import numpy as np\n",
    "import matplotlib.pyplot as plt\n",
    "import pandas as pd\n",
    "from PyQt4 import QtCore, QtGui"
   ]
  },
  {
   "cell_type": "code",
   "execution_count": null,
   "metadata": {
    "collapsed": false
   },
   "outputs": [],
   "source": [
    "eoFile = QtGui.QFileDialog.getOpenFileName(None,\n",
    "    \"Select evaluation output file...\", './', filter=\"MAT-files (*.mat)\")\n",
    "\n",
    "if eoFile:\n",
    "    global matlabOutput\n",
    "    matlabOutput = sio.loadmat(eoFile, squeeze_me=True, struct_as_record=False)"
   ]
  },
  {
   "cell_type": "code",
   "execution_count": null,
   "metadata": {
    "collapsed": false
   },
   "outputs": [],
   "source": [
    "def conf_mat_props(c) :\n",
    "    # calculations explained at https://github.com/hsosik/ifcb-analysis/blob/master/classification/conf_mat_props.m\n",
    "    total = np.sum(c, axis=0)\n",
    "    TP = np.diagonal(c);\n",
    "    FP = total - TP;\n",
    "    FN = np.sum(c, axis=1)-TP;\n",
    "    TN = sum(total)-TP-FN-FP;\n",
    "    return TP, TN, FP, FN"
   ]
  },
  {
   "cell_type": "code",
   "execution_count": null,
   "metadata": {
    "collapsed": false
   },
   "outputs": [],
   "source": [
    "%matplotlib notebook\n",
    "oobError = matlabOutput['oobError_output']\n",
    "\n",
    "plt.figure(figsize=(10,6))\n",
    "plt.plot(np.arange(len(oobError)), oobError);\n",
    "\n",
    "plt.xlabel('Number of Grown Trees')\n",
    "plt.ylabel('Out-of-Bag Classification Error')\n",
    "plt.ylim([0, 1]);"
   ]
  },
  {
   "cell_type": "code",
   "execution_count": null,
   "metadata": {
    "collapsed": false,
    "scrolled": false
   },
   "outputs": [],
   "source": [
    "indices = matlabOutput['OOBPermutedVarDeltaError_output'].ind\n",
    "values = matlabOutput['OOBPermutedVarDeltaError_output'].delerr\n",
    "\n",
    "plt.figure(figsize=(12,6))\n",
    "plt.bar(np.arange(len(indices)), height=values, width=.6)\n",
    "\n",
    "plt.ylabel('Feature importance')\n",
    "plt.xlabel('Feature ranked index')\n",
    "\n",
    "# hide meaningless xaxis labels\n",
    "plt.xticks((0,1), '');"
   ]
  },
  {
   "cell_type": "code",
   "execution_count": null,
   "metadata": {
    "collapsed": false
   },
   "outputs": [],
   "source": [
    "c1 = matlabOutput['confusionmat'].c1\n",
    "gord1 = matlabOutput['confusionmat'].gord1\n",
    "total = np.sum(c1, axis=1)\n",
    "TP, TN, FP, FN = conf_mat_props(c1)\n",
    "\n",
    "Pd = TP / (TP+FN)\n",
    "Pr = TP / (TP+FP)"
   ]
  },
  {
   "cell_type": "code",
   "execution_count": null,
   "metadata": {
    "collapsed": false
   },
   "outputs": [],
   "source": [
    "fig, ax = plt.subplots(figsize=(12,6))\n",
    "indices = np.arange(0, len(gord1)*2, 2)\n",
    "width = 0.5\n",
    "\n",
    "bars1 = ax.bar(indices, height=total, width=width, color='r')\n",
    "bars2 = ax.bar(indices+width, height=TP, width=width, color='g')\n",
    "bars3 = ax.bar(indices+(width*2), height=FP, width=width, color='y')\n",
    "\n",
    "ax.legend((bars1[0], bars2[0], bars3[0]), ('total in set', 'true pos', 'false pos'))\n",
    "\n",
    "ax.set_xticks(indices+(width*1.5))\n",
    "ax.set_xticklabels(gord1, rotation=90);\n",
    "ax.set_title('score threshold = 0');\n",
    "\n",
    "plt.tight_layout()"
   ]
  },
  {
   "cell_type": "code",
   "execution_count": null,
   "metadata": {
    "collapsed": false
   },
   "outputs": [],
   "source": [
    "fig, ax = plt.subplots(figsize=(12,6))\n",
    "# same indices as above cell\n",
    "width = 0.5\n",
    "\n",
    "bars1 = ax.bar(indices, height=Pd, width=width, color='r')\n",
    "bars2 = ax.bar(indices+width, height=Pr, width=width, color='g')\n",
    "\n",
    "ax.legend((bars1[0], bars2[0]), ('Pd', 'Pr'))\n",
    "ax.set_xticks(indices+(width*1.5))\n",
    "ax.set_xticklabels(gord1, rotation=90)\n",
    "ax.set_title('score threshold = 0');\n",
    "\n",
    "plt.tight_layout()"
   ]
  },
  {
   "cell_type": "code",
   "execution_count": null,
   "metadata": {
    "collapsed": false
   },
   "outputs": [],
   "source": [
    "classes = matlabOutput['classes']\n",
    "bY = matlabOutput['bY']\n",
    "maxthre = matlabOutput['maxthre']\n",
    "maxSfit = np.max(matlabOutput['oobPredict_output'].Sfit,axis=1)\n",
    "\n",
    "msf = pd.Series(maxSfit, index=bY)\n",
    "by_class = msf.groupby(by=msf.index)\n",
    "toPlot = list(zip(*by_class))[1]\n",
    "\n",
    "fig,ax = plt.subplots(figsize=(12,8))\n",
    "ax.boxplot(toPlot, labels=classes)\n",
    "stars = ax.plot(np.arange(0, len(classes)), maxthre, '*', color='g');\n",
    "\n",
    "ax.set_xticks(np.arange(1, len(classes)))\n",
    "ax.set_xticklabels(classes, rotation=90);\n",
    "ax.set_title('score threshold = 0')\n",
    "ax.set_ylabel('Out-of-bag winning scores')\n",
    "ax.legend([stars[0]], ['optimal threshold score'], numpoints=1)\n",
    "\n",
    "plt.tight_layout()"
   ]
  },
  {
   "cell_type": "code",
   "execution_count": null,
   "metadata": {
    "collapsed": false,
    "scrolled": false
   },
   "outputs": [],
   "source": [
    "dim = len(c1)\n",
    "cplot = np.zeros((dim,dim))\n",
    "cplot[:dim,:dim] = c1[:,:]\n",
    "        \n",
    "fig,ax = plt.subplots(figsize=(12,10))\n",
    "colorPlot = ax.pcolor(cplot)\n",
    "\n",
    "ticks = np.arange(0,len(classes))\n",
    "ax.set_yticks(ticks+.5)\n",
    "ax.set_yticklabels(classes)\n",
    "ax.set_xticks(ticks+.5)\n",
    "ax.set_xticklabels(classes, rotation=90)\n",
    "ax.set_title('manual vs. classifier; score threshold = 0')\n",
    "if (len(classes) > 50) :\n",
    "    # margin is okay with 50 ticks but broken with 51\n",
    "    # setting equal axes is better than not if >50\n",
    "    ax.axis('equal')\n",
    "\n",
    "fig.colorbar(colorPlot, ticks=np.arange(0, np.max(total), 50))\n",
    "\n",
    "plt.tight_layout()"
   ]
  },
  {
   "cell_type": "code",
   "execution_count": null,
   "metadata": {
    "collapsed": false
   },
   "outputs": [],
   "source": [
    "c3 = matlabOutput['confusionmat2'].c3\n",
    "gord3 = matlabOutput['confusionmat2'].gord\n",
    "total = np.sum(c3, axis=1)\n",
    "TP, TN, FP, FN = conf_mat_props(c3)\n",
    "\n",
    "# suppress some warnings about division by 0 and NaN\n",
    "with np.errstate(invalid='ignore') :\n",
    "    Pd3 = TP / (TP+FN)\n",
    "    Pr3 = TP / (TP+FP)\n",
    "    Pm3 = c3[:,len(c3)-1] / total"
   ]
  },
  {
   "cell_type": "code",
   "execution_count": null,
   "metadata": {
    "collapsed": false
   },
   "outputs": [],
   "source": [
    "fig, ax = plt.subplots(figsize=(12,6))\n",
    "indices = np.arange(0, len(gord3)*2, 2)\n",
    "width = 0.5\n",
    "\n",
    "bars1 = ax.bar(indices, height=Pd3, width=width, color='r')\n",
    "bars2 = ax.bar(indices+width, height=Pr3, width=width, color='g')\n",
    "bars3 = ax.bar(indices+(width*2), height=Pm3, width=width, color='y')\n",
    "\n",
    "ax.legend((bars1[0], bars2[0], bars3[0]), ('Pd', 'Pr', 'Pmissed'))\n",
    "\n",
    "ax.set_xticks(indices+(width*1.5))\n",
    "ax.set_xticklabels(gord3, rotation=90);\n",
    "ax.set_title('optimal score threshold');\n",
    "\n",
    "plt.tight_layout()"
   ]
  },
  {
   "cell_type": "code",
   "execution_count": null,
   "metadata": {
    "collapsed": false
   },
   "outputs": [],
   "source": [
    "classes2 = matlabOutput['classes2']\n",
    "\n",
    "dim = len(c3)\n",
    "cplot1 = np.zeros((dim,dim))\n",
    "cplot1[:dim,:dim] = c3[:,:]\n",
    "        \n",
    "fig,ax = plt.subplots(figsize=(12,10))\n",
    "colorPlot = ax.pcolor(cplot1)\n",
    "\n",
    "ticks = np.arange(0,len(classes2))+.5\n",
    "ax.set_yticks(ticks)\n",
    "ax.set_yticklabels(classes2)\n",
    "ax.set_xticks(ticks)\n",
    "ax.set_xticklabels(classes2, rotation=90)\n",
    "ax.set_title('manual vs. classifier; optimal score threshold')\n",
    "if (len(classes2) > 50) :\n",
    "    # margin is okay with 50 ticks but broken with 51\n",
    "    # setting equal axes is better than not if >50\n",
    "    ax.axis('equal')\n",
    "\n",
    "fig.colorbar(colorPlot, ticks=np.arange(0, np.max(total), 50))\n",
    "\n",
    "plt.tight_layout()"
   ]
  }
 ],
 "metadata": {
  "anaconda-cloud": {},
  "kernelspec": {
   "display_name": "Python [Root]",
   "language": "python",
   "name": "Python [Root]"
  },
  "language_info": {
   "codemirror_mode": {
    "name": "ipython",
    "version": 3
   },
   "file_extension": ".py",
   "mimetype": "text/x-python",
   "name": "python",
   "nbconvert_exporter": "python",
   "pygments_lexer": "ipython3",
   "version": "3.5.2"
  }
 },
 "nbformat": 4,
 "nbformat_minor": 0
}
